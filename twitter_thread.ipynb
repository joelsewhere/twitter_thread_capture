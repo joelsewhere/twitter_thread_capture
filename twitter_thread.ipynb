{
 "cells": [
  {
   "cell_type": "code",
   "execution_count": 534,
   "metadata": {
    "ExecuteTime": {
     "end_time": "2020-03-08T03:05:37.432686Z",
     "start_time": "2020-03-08T03:05:37.426974Z"
    }
   },
   "outputs": [],
   "source": [
    "from selenium import webdriver\n",
    "from PIL import Image\n",
    "from time import sleep\n",
    "from selenium.webdriver.common.action_chains import ActionChains"
   ]
  },
  {
   "cell_type": "code",
   "execution_count": 535,
   "metadata": {
    "ExecuteTime": {
     "end_time": "2020-03-08T03:05:41.594018Z",
     "start_time": "2020-03-08T03:05:38.915684Z"
    }
   },
   "outputs": [
    {
     "name": "stderr",
     "output_type": "stream",
     "text": [
      "/Users/joel/anaconda3/lib/python3.7/site-packages/ipykernel_launcher.py:5: DeprecationWarning: use options instead of chrome_options\n",
      "  \"\"\"\n"
     ]
    }
   ],
   "source": [
    "options = webdriver.ChromeOptions() \n",
    "options.add_argument(\"download.default_directory=/Users/joel/library_/coronavirus\")\n",
    "\n",
    "driver = webdriver.Chrome('/Users/joel/selenium_drivers/chromedriver 3',\n",
    "                          chrome_options=options)"
   ]
  },
  {
   "cell_type": "code",
   "execution_count": 539,
   "metadata": {
    "ExecuteTime": {
     "end_time": "2020-03-08T03:08:21.731534Z",
     "start_time": "2020-03-08T03:08:21.714894Z"
    },
    "code_folding": [
     0,
     11,
     17,
     27,
     55
    ]
   },
   "outputs": [],
   "source": [
    "def location(tweet):\n",
    "    location = tweet.location\n",
    "    size = tweet.size\n",
    "    driver.save_screenshot('/Users/joel/library_/extremism/extremism-{}.png'.format(count))\n",
    "    x = location['x']\n",
    "    y = location['y']\n",
    "    width = location['x']+size['width']\n",
    "    height = location['y']+size['height']\n",
    "\n",
    "    return x, y, width, height\n",
    "\n",
    "def crop_screenshot(count, x, y, width, height, path):    \n",
    "    im = Image.open('{}-{}.png'.format(path, count))\n",
    "\n",
    "    im = im.crop((int(x), int(y), int(width), int(height)))\n",
    "    im.save('{}-{}.png'.format(path, count))\n",
    "\n",
    "def find_tweet(driver, url):\n",
    "    driver.get(url)\n",
    "    sleep(1)\n",
    "    driver.find_element_by_tag_name('article').click()\n",
    "    tweets = driver.find_elements_by_tag_name('article')\n",
    "    username = tweets[0].text.split('\\n')[0]\n",
    "    x, y, width, height = location(tweets[0])\n",
    "    \n",
    "    return tweets, username, x, y, width, height\n",
    "\n",
    "def thread_screenshot(tweet, count, x, y, width, height, username, path):\n",
    "    try:\n",
    "        tweet.click()\n",
    "    except:\n",
    "        driver.execute_script(\"scrollBy(0,250);\")\n",
    "        sleep(1)\n",
    "        driver.execute_script(\"scrollBy(0,-250);\")\n",
    "        sleep(1)\n",
    "        driver.execute_script(\"scrollBy(0,250);\")\n",
    "        tweet.click()\n",
    "    sleep(2)\n",
    "    driver.save_screenshot('{}-{}.png'.format(path, count))\n",
    "    crop_screenshot(count, x, y, width, height, path)\n",
    "\n",
    "    try:\n",
    "        found = driver.find_elements_by_tag_name('article')\n",
    "        tweet_list = [element for element in found if element.text.split('\\n')[0] == username]\n",
    "    except:\n",
    "        sleep(1)\n",
    "        found = driver.find_elements_by_tag_name('article')\n",
    "        tweet_list = [element for element in found if element.text.split('\\n')[0] == username]\n",
    "    \n",
    "    for tweet_ in tweet_list:\n",
    "        split = tweet_.text.split('\\n')\n",
    "        if 'Replying to ' in split:\n",
    "            thread_screenshot(tweet_, count+1, x, y, width, height, username, path)\n",
    "            break\n",
    "\n",
    "def twitter_thread(driver, url, path):\n",
    "    \n",
    "    tweets, username, x, y, width, height = find_tweet(driver, url)\n",
    "    \n",
    "    thread_screenshot(tweets[0], 0, x, y, width, height, username, path)"
   ]
  },
  {
   "cell_type": "code",
   "execution_count": null,
   "metadata": {},
   "outputs": [],
   "source": [
    "url = 'https://twitter.com/ScottGottliebMD/status/1236473220783636481?s=20'\n",
    "path = '/Users/joel/library_/coronavirus/@scottgrottliebmd'"
   ]
  },
  {
   "cell_type": "code",
   "execution_count": 542,
   "metadata": {
    "ExecuteTime": {
     "end_time": "2020-03-08T03:09:32.555247Z",
     "start_time": "2020-03-08T03:08:41.054018Z"
    }
   },
   "outputs": [],
   "source": [
    "twitter_thread(driver, url, path)"
   ]
  }
 ],
 "metadata": {
  "hide_input": false,
  "kernelspec": {
   "display_name": "Python 3",
   "language": "python",
   "name": "python3"
  },
  "language_info": {
   "codemirror_mode": {
    "name": "ipython",
    "version": 3
   },
   "file_extension": ".py",
   "mimetype": "text/x-python",
   "name": "python",
   "nbconvert_exporter": "python",
   "pygments_lexer": "ipython3",
   "version": "3.7.3"
  },
  "toc": {
   "base_numbering": 1,
   "nav_menu": {},
   "number_sections": false,
   "sideBar": true,
   "skip_h1_title": true,
   "title_cell": "Table of Contents",
   "title_sidebar": "Contents",
   "toc_cell": false,
   "toc_position": {},
   "toc_section_display": true,
   "toc_window_display": false
  },
  "varInspector": {
   "cols": {
    "lenName": 16,
    "lenType": 16,
    "lenVar": 40
   },
   "kernels_config": {
    "python": {
     "delete_cmd_postfix": "",
     "delete_cmd_prefix": "del ",
     "library": "var_list.py",
     "varRefreshCmd": "print(var_dic_list())"
    },
    "r": {
     "delete_cmd_postfix": ") ",
     "delete_cmd_prefix": "rm(",
     "library": "var_list.r",
     "varRefreshCmd": "cat(var_dic_list()) "
    }
   },
   "types_to_exclude": [
    "module",
    "function",
    "builtin_function_or_method",
    "instance",
    "_Feature"
   ],
   "window_display": false
  }
 },
 "nbformat": 4,
 "nbformat_minor": 2
}
