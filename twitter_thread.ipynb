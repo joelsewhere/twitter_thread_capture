{
 "cells": [
  {
   "cell_type": "code",
   "execution_count": 1,
   "metadata": {
    "ExecuteTime": {
     "end_time": "2020-03-25T04:01:02.940553Z",
     "start_time": "2020-03-25T04:01:02.859706Z"
    }
   },
   "outputs": [],
   "source": [
    "from selenium import webdriver\n",
    "from PIL import Image\n",
    "from time import sleep\n",
    "from selenium.webdriver.common.action_chains import ActionChains"
   ]
  },
  {
   "cell_type": "code",
   "execution_count": 14,
   "metadata": {
    "ExecuteTime": {
     "end_time": "2020-03-25T04:12:40.274363Z",
     "start_time": "2020-03-25T04:12:38.337908Z"
    }
   },
   "outputs": [
    {
     "name": "stderr",
     "output_type": "stream",
     "text": [
      "/Users/joel/anaconda3/lib/python3.7/site-packages/ipykernel_launcher.py:5: DeprecationWarning: use options instead of chrome_options\n",
      "  \"\"\"\n"
     ]
    }
   ],
   "source": [
    "options = webdriver.ChromeOptions() \n",
    "options.add_argument(\"download.default_directory=/Users/joel/library_\")\n",
    "\n",
    "driver = webdriver.Chrome('/Users/joel/selenium_drivers/chromedriver 3',\n",
    "                          chrome_options=options)"
   ]
  },
  {
   "cell_type": "code",
   "execution_count": 20,
   "metadata": {
    "ExecuteTime": {
     "end_time": "2020-03-25T04:16:26.629260Z",
     "start_time": "2020-03-25T04:16:26.609393Z"
    },
    "code_folding": []
   },
   "outputs": [],
   "source": [
    "def location(tweet, path, count = 0):\n",
    "    location = tweet.location\n",
    "    size = tweet.size\n",
    "    driver.save_screenshot('{}-{}.png'.format(path, count))\n",
    "    x = location['x']\n",
    "    y = location['y']\n",
    "    width = location['x']+size['width']\n",
    "    height = location['y']+size['height']\n",
    "\n",
    "    return x, y, width, height\n",
    "\n",
    "def crop_screenshot(count, x, y, width, height, path):    \n",
    "    im = Image.open('{}-{}.png'.format(path, count))\n",
    "\n",
    "    im = im.crop((int(x), int(y), int(width), int(height)))\n",
    "    im.save('{}-{}.png'.format(path, count))\n",
    "\n",
    "def find_tweet(driver, url, path, count=0):\n",
    "    driver.get(url)\n",
    "    sleep(2)\n",
    "    driver.find_element_by_xpath('//*[@id=\"react-root\"]/div/div/div[2]/main/div/div/div/div/div/div/div/section/div/div/div/div[2]/div/article/div/div/div[2]/div[2]/div[2]/div[1]').click()\n",
    "    tweets = driver.find_elements_by_tag_name('article')\n",
    "    username = tweets[0].text.split('\\n')[0]\n",
    "    x, y, width, height = location(tweets[0], path, count)\n",
    "    \n",
    "    return tweets, username, x, y, width, height\n",
    "\n",
    "def thread_screenshot(tweet, count, x, y, width, height, username, path):\n",
    "    try:\n",
    "        tweet.find_element_by_xpath('//*[@id=\"tweet-text\"]/span')\n",
    "    except:\n",
    "        driver.execute_script(\"scrollBy(0,250);\")\n",
    "        sleep(1)\n",
    "        driver.execute_script(\"scrollBy(0,-250);\")\n",
    "        sleep(1)\n",
    "        driver.execute_script(\"scrollBy(0,250);\")\n",
    "        tweet.click()\n",
    "    sleep(2)\n",
    "    driver.save_screenshot('{}-{}.png'.format(path, count))\n",
    "    crop_screenshot(count, x, y, width, height, path)\n",
    "\n",
    "    try:\n",
    "        found = driver.find_elements_by_tag_name('article')\n",
    "        tweet_list = [element for element in found if element.text.split('\\n')[0] == username]\n",
    "    except:\n",
    "        sleep(1)\n",
    "        found = driver.find_elements_by_tag_name('article')\n",
    "        tweet_list = [element for element in found if element.text.split('\\n')[0] == username]\n",
    "    \n",
    "    for tweet_ in tweet_list:\n",
    "        split = tweet_.text.split('\\n')\n",
    "        if 'Replying to ' in split:\n",
    "            thread_screenshot(tweet_, count+1, x, y, width, height, username, path)\n",
    "            break\n",
    "\n",
    "def twitter_thread(driver, url, path):\n",
    "    \n",
    "    tweets, username, x, y, width, height = find_tweet(driver, url, path)\n",
    "    \n",
    "    thread_screenshot(tweets[0], 0, x, y, width, height, username, path)"
   ]
  },
  {
   "cell_type": "code",
   "execution_count": 21,
   "metadata": {
    "ExecuteTime": {
     "end_time": "2020-03-25T04:16:27.865018Z",
     "start_time": "2020-03-25T04:16:27.862231Z"
    }
   },
   "outputs": [],
   "source": [
    "url = 'https://twitter.com/choo_ek/status/1242323621705478144?s=20'\n",
    "path = '/Users/joel/library_/triage'"
   ]
  },
  {
   "cell_type": "code",
   "execution_count": 22,
   "metadata": {
    "ExecuteTime": {
     "end_time": "2020-03-25T04:18:05.135588Z",
     "start_time": "2020-03-25T04:16:28.812656Z"
    }
   },
   "outputs": [],
   "source": [
    "twitter_thread(driver, url, path)"
   ]
  },
  {
   "cell_type": "code",
   "execution_count": 10,
   "metadata": {
    "ExecuteTime": {
     "end_time": "2020-03-25T04:09:56.823118Z",
     "start_time": "2020-03-25T04:09:56.532558Z"
    }
   },
   "outputs": [],
   "source": []
  },
  {
   "cell_type": "code",
   "execution_count": 15,
   "metadata": {
    "ExecuteTime": {
     "end_time": "2020-03-25T04:12:48.887214Z",
     "start_time": "2020-03-25T04:12:45.994666Z"
    }
   },
   "outputs": [],
   "source": [
    "driver.get(url)"
   ]
  },
  {
   "cell_type": "code",
   "execution_count": 17,
   "metadata": {
    "ExecuteTime": {
     "end_time": "2020-03-25T04:13:24.135616Z",
     "start_time": "2020-03-25T04:13:24.067260Z"
    }
   },
   "outputs": [],
   "source": [
    "article = driver.find_element_by_tag_name('article')\n",
    "driver.find_element_by_class_name('css-1dbjc4n').click()"
   ]
  },
  {
   "cell_type": "code",
   "execution_count": 19,
   "metadata": {
    "ExecuteTime": {
     "end_time": "2020-03-25T04:15:08.823888Z",
     "start_time": "2020-03-25T04:15:08.619698Z"
    }
   },
   "outputs": [],
   "source": []
  },
  {
   "cell_type": "code",
   "execution_count": null,
   "metadata": {},
   "outputs": [],
   "source": []
  }
 ],
 "metadata": {
  "hide_input": false,
  "kernelspec": {
   "display_name": "Python 3",
   "language": "python",
   "name": "python3"
  },
  "language_info": {
   "codemirror_mode": {
    "name": "ipython",
    "version": 3
   },
   "file_extension": ".py",
   "mimetype": "text/x-python",
   "name": "python",
   "nbconvert_exporter": "python",
   "pygments_lexer": "ipython3",
   "version": "3.7.3"
  },
  "toc": {
   "base_numbering": 1,
   "nav_menu": {},
   "number_sections": false,
   "sideBar": true,
   "skip_h1_title": true,
   "title_cell": "Table of Contents",
   "title_sidebar": "Contents",
   "toc_cell": false,
   "toc_position": {},
   "toc_section_display": true,
   "toc_window_display": false
  },
  "varInspector": {
   "cols": {
    "lenName": 16,
    "lenType": 16,
    "lenVar": 40
   },
   "kernels_config": {
    "python": {
     "delete_cmd_postfix": "",
     "delete_cmd_prefix": "del ",
     "library": "var_list.py",
     "varRefreshCmd": "print(var_dic_list())"
    },
    "r": {
     "delete_cmd_postfix": ") ",
     "delete_cmd_prefix": "rm(",
     "library": "var_list.r",
     "varRefreshCmd": "cat(var_dic_list()) "
    }
   },
   "types_to_exclude": [
    "module",
    "function",
    "builtin_function_or_method",
    "instance",
    "_Feature"
   ],
   "window_display": false
  }
 },
 "nbformat": 4,
 "nbformat_minor": 2
}
